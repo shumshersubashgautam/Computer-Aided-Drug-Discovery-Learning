{
  "nbformat": 4,
  "nbformat_minor": 0,
  "metadata": {
    "colab": {
      "provenance": [],
      "gpuType": "T4",
      "authorship_tag": "ABX9TyPYg8FcEdegiaEpjZzLZcwv",
      "include_colab_link": true
    },
    "kernelspec": {
      "name": "python3",
      "display_name": "Python 3"
    },
    "language_info": {
      "name": "python"
    },
    "accelerator": "GPU"
  },
  "cells": [
    {
      "cell_type": "markdown",
      "metadata": {
        "id": "view-in-github",
        "colab_type": "text"
      },
      "source": [
        "<a href=\"https://colab.research.google.com/github/shumshersubashgautam/Computer-Aided-Drug-Discovery-Learning/blob/main/34_%C2%B7_RNN_based_molecular_property_prediction.ipynb\" target=\"_parent\"><img src=\"https://colab.research.google.com/assets/colab-badge.svg\" alt=\"Open In Colab\"/></a>"
      ]
    },
    {
      "cell_type": "code",
      "execution_count": 1,
      "metadata": {
        "colab": {
          "base_uri": "https://localhost:8080/"
        },
        "id": "ZRwMpwBf2udq",
        "outputId": "3f72d28e-392a-4ee3-cef9-35d4c112e062"
      },
      "outputs": [
        {
          "output_type": "stream",
          "name": "stdout",
          "text": [
            "Cloning into 'teachopencadd'...\n",
            "remote: Enumerating objects: 17115, done.\u001b[K\n",
            "remote: Counting objects: 100% (2094/2094), done.\u001b[K\n",
            "remote: Compressing objects: 100% (971/971), done.\u001b[K\n",
            "remote: Total 17115 (delta 1311), reused 1784 (delta 1121), pack-reused 15021\u001b[K\n",
            "Receiving objects: 100% (17115/17115), 849.73 MiB | 32.24 MiB/s, done.\n",
            "Resolving deltas: 100% (11503/11503), done.\n",
            "Updating files: 100% (468/468), done.\n"
          ]
        }
      ],
      "source": [
        "!git clone https://github.com/volkamerlab/teachopencadd.git"
      ]
    },
    {
      "cell_type": "code",
      "source": [],
      "metadata": {
        "id": "eVR718vv3JOH"
      },
      "execution_count": null,
      "outputs": []
    },
    {
      "cell_type": "code",
      "source": [
        "!pip install rdkit"
      ],
      "metadata": {
        "colab": {
          "base_uri": "https://localhost:8080/"
        },
        "id": "_GFN3noT5euO",
        "outputId": "b133892e-5c90-4120-cb57-c6b3a183e8f4"
      },
      "execution_count": 3,
      "outputs": [
        {
          "output_type": "stream",
          "name": "stdout",
          "text": [
            "Looking in indexes: https://pypi.org/simple, https://us-python.pkg.dev/colab-wheels/public/simple/\n",
            "Collecting rdkit\n",
            "  Downloading rdkit-2023.3.1-cp310-cp310-manylinux_2_17_x86_64.manylinux2014_x86_64.whl (29.7 MB)\n",
            "\u001b[2K     \u001b[90m━━━━━━━━━━━━━━━━━━━━━━━━━━━━━━━━━━━━━━━━\u001b[0m \u001b[32m29.7/29.7 MB\u001b[0m \u001b[31m50.0 MB/s\u001b[0m eta \u001b[36m0:00:00\u001b[0m\n",
            "\u001b[?25hRequirement already satisfied: numpy in /usr/local/lib/python3.10/dist-packages (from rdkit) (1.22.4)\n",
            "Requirement already satisfied: Pillow in /usr/local/lib/python3.10/dist-packages (from rdkit) (8.4.0)\n",
            "Installing collected packages: rdkit\n",
            "Successfully installed rdkit-2023.3.1\n"
          ]
        }
      ]
    },
    {
      "cell_type": "markdown",
      "source": [
        "Molecules as text\n",
        "\n",
        "Tokenization and one-hot encoding\n",
        "\n",
        "Recurrent Neural Networks (RNNs)\n",
        "\n",
        "Vanilla RNN\n",
        "\n",
        "Training an RNN\n",
        "\n",
        "Vanishing gradients\n",
        "\n",
        "Gated Recurrent Unit"
      ],
      "metadata": {
        "id": "I88CakO1Cyo3"
      }
    },
    {
      "cell_type": "code",
      "source": [
        "import os\n",
        "import re\n",
        "from collections import Counter\n",
        "from pathlib import Path\n",
        "\n",
        "import matplotlib.pyplot as plt\n",
        "import numpy as np\n",
        "import pandas as pd\n",
        "import torch\n",
        "import torch.nn as nn\n",
        "from torch.nn.utils.rnn import pad_sequence\n",
        "from torch.utils.data import DataLoader, Dataset, Subset, TensorDataset"
      ],
      "metadata": {
        "id": "9u2aLl9TAvH-"
      },
      "execution_count": 52,
      "outputs": []
    },
    {
      "cell_type": "code",
      "source": [
        "# Use cuda if available\n",
        "device = torch.device(\"cuda\" if torch.cuda.is_available() else \"cpu\")\n",
        "\n",
        "# seed random generator\n",
        "_ = torch.manual_seed(42)"
      ],
      "metadata": {
        "id": "CtPWo21SDC3A"
      },
      "execution_count": 53,
      "outputs": []
    },
    {
      "cell_type": "code",
      "source": [
        "HERE = Path(_dh[-1])\n",
        "DATA = HERE / \"data\""
      ],
      "metadata": {
        "id": "yUf03SOvDF2S"
      },
      "execution_count": 54,
      "outputs": []
    },
    {
      "cell_type": "code",
      "source": [
        "# load the dataset\n",
        "df = pd.read_csv(os.path.join(DATA, \"/content/teachopencadd/teachopencadd/talktorials/T034_recurrent_neural_networks/data/qm9.csv.gz\"), compression=\"gzip\")\n",
        "df.head()\n"
      ],
      "metadata": {
        "colab": {
          "base_uri": "https://localhost:8080/",
          "height": 299
        },
        "id": "KHiTmt6HDHwy",
        "outputId": "0777a1a1-4744-47e1-bd8a-cd512bddb03b"
      },
      "execution_count": 56,
      "outputs": [
        {
          "output_type": "execute_result",
          "data": {
            "text/plain": [
              "  mol_id          A           B           C      mu  alpha    homo    lumo  \\\n",
              "0  gdb_1  157.71180  157.709970  157.706990  0.0000  13.21 -0.3877  0.1171   \n",
              "1  gdb_2  293.60975  293.541110  191.393970  1.6256   9.46 -0.2570  0.0829   \n",
              "2  gdb_3  799.58812  437.903860  282.945450  1.8511   6.31 -0.2928  0.0687   \n",
              "3  gdb_4    0.00000   35.610036   35.610036  0.0000  16.28 -0.2845  0.0506   \n",
              "4  gdb_5    0.00000   44.593883   44.593883  2.8937  12.99 -0.3604  0.0191   \n",
              "\n",
              "      gap       r2  ...         u0       u298       h298       g298     cv  \\\n",
              "0  0.5048  35.3641  ... -40.478930 -40.476062 -40.475117 -40.498597  6.469   \n",
              "1  0.3399  26.1563  ... -56.525887 -56.523026 -56.522082 -56.544961  6.316   \n",
              "2  0.3615  19.0002  ... -76.404702 -76.401867 -76.400922 -76.422349  6.002   \n",
              "3  0.3351  59.5248  ... -77.308427 -77.305527 -77.304583 -77.327429  8.574   \n",
              "4  0.3796  48.7476  ... -93.411888 -93.409370 -93.408425 -93.431246  6.278   \n",
              "\n",
              "      u0_atom   u298_atom   h298_atom   g298_atom  smiles  \n",
              "0 -395.999595 -398.643290 -401.014647 -372.471772       C  \n",
              "1 -276.861363 -278.620271 -280.399259 -259.338802       N  \n",
              "2 -213.087624 -213.974294 -215.159658 -201.407171       O  \n",
              "3 -385.501997 -387.237686 -389.016047 -365.800724     C#C  \n",
              "4 -301.820534 -302.906752 -304.091489 -288.720028     C#N  \n",
              "\n",
              "[5 rows x 21 columns]"
            ],
            "text/html": [
              "\n",
              "  <div id=\"df-55b064d0-2414-4cc5-bf3a-7e9b24379ba3\">\n",
              "    <div class=\"colab-df-container\">\n",
              "      <div>\n",
              "<style scoped>\n",
              "    .dataframe tbody tr th:only-of-type {\n",
              "        vertical-align: middle;\n",
              "    }\n",
              "\n",
              "    .dataframe tbody tr th {\n",
              "        vertical-align: top;\n",
              "    }\n",
              "\n",
              "    .dataframe thead th {\n",
              "        text-align: right;\n",
              "    }\n",
              "</style>\n",
              "<table border=\"1\" class=\"dataframe\">\n",
              "  <thead>\n",
              "    <tr style=\"text-align: right;\">\n",
              "      <th></th>\n",
              "      <th>mol_id</th>\n",
              "      <th>A</th>\n",
              "      <th>B</th>\n",
              "      <th>C</th>\n",
              "      <th>mu</th>\n",
              "      <th>alpha</th>\n",
              "      <th>homo</th>\n",
              "      <th>lumo</th>\n",
              "      <th>gap</th>\n",
              "      <th>r2</th>\n",
              "      <th>...</th>\n",
              "      <th>u0</th>\n",
              "      <th>u298</th>\n",
              "      <th>h298</th>\n",
              "      <th>g298</th>\n",
              "      <th>cv</th>\n",
              "      <th>u0_atom</th>\n",
              "      <th>u298_atom</th>\n",
              "      <th>h298_atom</th>\n",
              "      <th>g298_atom</th>\n",
              "      <th>smiles</th>\n",
              "    </tr>\n",
              "  </thead>\n",
              "  <tbody>\n",
              "    <tr>\n",
              "      <th>0</th>\n",
              "      <td>gdb_1</td>\n",
              "      <td>157.71180</td>\n",
              "      <td>157.709970</td>\n",
              "      <td>157.706990</td>\n",
              "      <td>0.0000</td>\n",
              "      <td>13.21</td>\n",
              "      <td>-0.3877</td>\n",
              "      <td>0.1171</td>\n",
              "      <td>0.5048</td>\n",
              "      <td>35.3641</td>\n",
              "      <td>...</td>\n",
              "      <td>-40.478930</td>\n",
              "      <td>-40.476062</td>\n",
              "      <td>-40.475117</td>\n",
              "      <td>-40.498597</td>\n",
              "      <td>6.469</td>\n",
              "      <td>-395.999595</td>\n",
              "      <td>-398.643290</td>\n",
              "      <td>-401.014647</td>\n",
              "      <td>-372.471772</td>\n",
              "      <td>C</td>\n",
              "    </tr>\n",
              "    <tr>\n",
              "      <th>1</th>\n",
              "      <td>gdb_2</td>\n",
              "      <td>293.60975</td>\n",
              "      <td>293.541110</td>\n",
              "      <td>191.393970</td>\n",
              "      <td>1.6256</td>\n",
              "      <td>9.46</td>\n",
              "      <td>-0.2570</td>\n",
              "      <td>0.0829</td>\n",
              "      <td>0.3399</td>\n",
              "      <td>26.1563</td>\n",
              "      <td>...</td>\n",
              "      <td>-56.525887</td>\n",
              "      <td>-56.523026</td>\n",
              "      <td>-56.522082</td>\n",
              "      <td>-56.544961</td>\n",
              "      <td>6.316</td>\n",
              "      <td>-276.861363</td>\n",
              "      <td>-278.620271</td>\n",
              "      <td>-280.399259</td>\n",
              "      <td>-259.338802</td>\n",
              "      <td>N</td>\n",
              "    </tr>\n",
              "    <tr>\n",
              "      <th>2</th>\n",
              "      <td>gdb_3</td>\n",
              "      <td>799.58812</td>\n",
              "      <td>437.903860</td>\n",
              "      <td>282.945450</td>\n",
              "      <td>1.8511</td>\n",
              "      <td>6.31</td>\n",
              "      <td>-0.2928</td>\n",
              "      <td>0.0687</td>\n",
              "      <td>0.3615</td>\n",
              "      <td>19.0002</td>\n",
              "      <td>...</td>\n",
              "      <td>-76.404702</td>\n",
              "      <td>-76.401867</td>\n",
              "      <td>-76.400922</td>\n",
              "      <td>-76.422349</td>\n",
              "      <td>6.002</td>\n",
              "      <td>-213.087624</td>\n",
              "      <td>-213.974294</td>\n",
              "      <td>-215.159658</td>\n",
              "      <td>-201.407171</td>\n",
              "      <td>O</td>\n",
              "    </tr>\n",
              "    <tr>\n",
              "      <th>3</th>\n",
              "      <td>gdb_4</td>\n",
              "      <td>0.00000</td>\n",
              "      <td>35.610036</td>\n",
              "      <td>35.610036</td>\n",
              "      <td>0.0000</td>\n",
              "      <td>16.28</td>\n",
              "      <td>-0.2845</td>\n",
              "      <td>0.0506</td>\n",
              "      <td>0.3351</td>\n",
              "      <td>59.5248</td>\n",
              "      <td>...</td>\n",
              "      <td>-77.308427</td>\n",
              "      <td>-77.305527</td>\n",
              "      <td>-77.304583</td>\n",
              "      <td>-77.327429</td>\n",
              "      <td>8.574</td>\n",
              "      <td>-385.501997</td>\n",
              "      <td>-387.237686</td>\n",
              "      <td>-389.016047</td>\n",
              "      <td>-365.800724</td>\n",
              "      <td>C#C</td>\n",
              "    </tr>\n",
              "    <tr>\n",
              "      <th>4</th>\n",
              "      <td>gdb_5</td>\n",
              "      <td>0.00000</td>\n",
              "      <td>44.593883</td>\n",
              "      <td>44.593883</td>\n",
              "      <td>2.8937</td>\n",
              "      <td>12.99</td>\n",
              "      <td>-0.3604</td>\n",
              "      <td>0.0191</td>\n",
              "      <td>0.3796</td>\n",
              "      <td>48.7476</td>\n",
              "      <td>...</td>\n",
              "      <td>-93.411888</td>\n",
              "      <td>-93.409370</td>\n",
              "      <td>-93.408425</td>\n",
              "      <td>-93.431246</td>\n",
              "      <td>6.278</td>\n",
              "      <td>-301.820534</td>\n",
              "      <td>-302.906752</td>\n",
              "      <td>-304.091489</td>\n",
              "      <td>-288.720028</td>\n",
              "      <td>C#N</td>\n",
              "    </tr>\n",
              "  </tbody>\n",
              "</table>\n",
              "<p>5 rows × 21 columns</p>\n",
              "</div>\n",
              "      <button class=\"colab-df-convert\" onclick=\"convertToInteractive('df-55b064d0-2414-4cc5-bf3a-7e9b24379ba3')\"\n",
              "              title=\"Convert this dataframe to an interactive table.\"\n",
              "              style=\"display:none;\">\n",
              "        \n",
              "  <svg xmlns=\"http://www.w3.org/2000/svg\" height=\"24px\"viewBox=\"0 0 24 24\"\n",
              "       width=\"24px\">\n",
              "    <path d=\"M0 0h24v24H0V0z\" fill=\"none\"/>\n",
              "    <path d=\"M18.56 5.44l.94 2.06.94-2.06 2.06-.94-2.06-.94-.94-2.06-.94 2.06-2.06.94zm-11 1L8.5 8.5l.94-2.06 2.06-.94-2.06-.94L8.5 2.5l-.94 2.06-2.06.94zm10 10l.94 2.06.94-2.06 2.06-.94-2.06-.94-.94-2.06-.94 2.06-2.06.94z\"/><path d=\"M17.41 7.96l-1.37-1.37c-.4-.4-.92-.59-1.43-.59-.52 0-1.04.2-1.43.59L10.3 9.45l-7.72 7.72c-.78.78-.78 2.05 0 2.83L4 21.41c.39.39.9.59 1.41.59.51 0 1.02-.2 1.41-.59l7.78-7.78 2.81-2.81c.8-.78.8-2.07 0-2.86zM5.41 20L4 18.59l7.72-7.72 1.47 1.35L5.41 20z\"/>\n",
              "  </svg>\n",
              "      </button>\n",
              "      \n",
              "  <style>\n",
              "    .colab-df-container {\n",
              "      display:flex;\n",
              "      flex-wrap:wrap;\n",
              "      gap: 12px;\n",
              "    }\n",
              "\n",
              "    .colab-df-convert {\n",
              "      background-color: #E8F0FE;\n",
              "      border: none;\n",
              "      border-radius: 50%;\n",
              "      cursor: pointer;\n",
              "      display: none;\n",
              "      fill: #1967D2;\n",
              "      height: 32px;\n",
              "      padding: 0 0 0 0;\n",
              "      width: 32px;\n",
              "    }\n",
              "\n",
              "    .colab-df-convert:hover {\n",
              "      background-color: #E2EBFA;\n",
              "      box-shadow: 0px 1px 2px rgba(60, 64, 67, 0.3), 0px 1px 3px 1px rgba(60, 64, 67, 0.15);\n",
              "      fill: #174EA6;\n",
              "    }\n",
              "\n",
              "    [theme=dark] .colab-df-convert {\n",
              "      background-color: #3B4455;\n",
              "      fill: #D2E3FC;\n",
              "    }\n",
              "\n",
              "    [theme=dark] .colab-df-convert:hover {\n",
              "      background-color: #434B5C;\n",
              "      box-shadow: 0px 1px 3px 1px rgba(0, 0, 0, 0.15);\n",
              "      filter: drop-shadow(0px 1px 2px rgba(0, 0, 0, 0.3));\n",
              "      fill: #FFFFFF;\n",
              "    }\n",
              "  </style>\n",
              "\n",
              "      <script>\n",
              "        const buttonEl =\n",
              "          document.querySelector('#df-55b064d0-2414-4cc5-bf3a-7e9b24379ba3 button.colab-df-convert');\n",
              "        buttonEl.style.display =\n",
              "          google.colab.kernel.accessAllowed ? 'block' : 'none';\n",
              "\n",
              "        async function convertToInteractive(key) {\n",
              "          const element = document.querySelector('#df-55b064d0-2414-4cc5-bf3a-7e9b24379ba3');\n",
              "          const dataTable =\n",
              "            await google.colab.kernel.invokeFunction('convertToInteractive',\n",
              "                                                     [key], {});\n",
              "          if (!dataTable) return;\n",
              "\n",
              "          const docLinkHtml = 'Like what you see? Visit the ' +\n",
              "            '<a target=\"_blank\" href=https://colab.research.google.com/notebooks/data_table.ipynb>data table notebook</a>'\n",
              "            + ' to learn more about interactive tables.';\n",
              "          element.innerHTML = '';\n",
              "          dataTable['output_type'] = 'display_data';\n",
              "          await google.colab.output.renderOutput(dataTable, element);\n",
              "          const docLink = document.createElement('div');\n",
              "          docLink.innerHTML = docLinkHtml;\n",
              "          element.appendChild(docLink);\n",
              "        }\n",
              "      </script>\n",
              "    </div>\n",
              "  </div>\n",
              "  "
            ]
          },
          "metadata": {},
          "execution_count": 56
        }
      ]
    },
    {
      "cell_type": "code",
      "source": [
        "class SmilesTokenizer(object):\n",
        "    \"\"\"\n",
        "    A simple regex-based tokenizer adapted from the deepchem smiles_tokenizer package.\n",
        "    SMILES regex pattern for the tokenization is designed by Schwaller et. al., ACS Cent. Sci 5 (2019)\n",
        "    \"\"\"\n",
        "\n",
        "    def __init__(self):\n",
        "        self.regex_pattern = (\n",
        "            r\"(\\[[^\\]]+]|Br?|Cl?|N|O|S|P|F|I|b|c|n|o|s|p|\\(|\\)|\\.\"\n",
        "            r\"|=|#|-|\\+|\\\\|\\/|:|~|@|\\?|>>?|\\*|\\$|\\%[0-9]{2}|[0-9])\"\n",
        "        )\n",
        "        self.regex = re.compile(self.regex_pattern)\n",
        "\n",
        "    def tokenize(self, smiles):\n",
        "        \"\"\"\n",
        "        Tokenizes SMILES string.\n",
        "\n",
        "        Parameters\n",
        "        ----------\n",
        "        smiles : str\n",
        "            Input SMILES string.\n",
        "\n",
        "        Returns\n",
        "        -------\n",
        "        List[str]\n",
        "            A list of tokens.\n",
        "        \"\"\"\n",
        "        tokens = [token for token in self.regex.findall(smiles)]\n",
        "        return tokens"
      ],
      "metadata": {
        "id": "KuTx_iU5DJbl"
      },
      "execution_count": 57,
      "outputs": []
    },
    {
      "cell_type": "code",
      "source": [
        "def build_vocab(smiles_list, tokenizer, max_vocab_size):\n",
        "    \"\"\"\n",
        "    Builds a vocabulary of N=max_vocab_size most common tokens from list of SMILES strings.\n",
        "\n",
        "    Parameters\n",
        "    ----------\n",
        "    smiles_list : List[str]\n",
        "        List of SMILES strings.\n",
        "    tokenizer : SmilesTokenizer\n",
        "    max_vocab_size : int\n",
        "        Maximum size of vocabulary.\n",
        "\n",
        "    Returns\n",
        "    -------\n",
        "    Dict[str, int]\n",
        "        A dictionary that defines mapping of a token to its index in the vocabulary.\n",
        "    \"\"\"\n",
        "    tokenized_smiles = [tokenizer.tokenize(s) for s in smiles_list]\n",
        "    token_counter = Counter(c for s in tokenized_smiles for c in s)\n",
        "    tokens = [token for token, _ in token_counter.most_common(max_vocab_size)]\n",
        "    vocab = {token: idx for idx, token in enumerate(tokens)}\n",
        "    return vocab\n",
        "\n",
        "\n",
        "def smiles_to_ohe(smiles, tokenizer, vocab):\n",
        "    \"\"\"\n",
        "    Transforms SMILES string to one-hot encoding representation.\n",
        "\n",
        "    Parameters\n",
        "    ----------\n",
        "    smiles : str\n",
        "        Input SMILES string.\n",
        "    tokenizer : SmilesTokenizer\n",
        "    vocab : Dict[str, int]\n",
        "        A dictionary that defines mapping of a token to its index in the vocabulary.\n",
        "\n",
        "    Returns\n",
        "    -------\n",
        "    Tensor\n",
        "        A pytorch Tensor with shape (n_tokens, vocab_size), where n_tokens is the\n",
        "        length of tokenized input string, vocab_size is the number of tokens in\n",
        "        the vocabulary\n",
        "    \"\"\"\n",
        "    unknown_token_id = len(vocab) - 1\n",
        "    token_ids = [vocab.get(token, unknown_token_id) for token in tokenizer.tokenize(smiles)]\n",
        "    ohe = torch.eye(len(vocab))[token_ids]\n",
        "    return ohe"
      ],
      "metadata": {
        "id": "w_ZxrjFIDU-d"
      },
      "execution_count": 58,
      "outputs": []
    },
    {
      "cell_type": "code",
      "source": [
        "tokenizer = SmilesTokenizer()\n",
        "\n",
        "smiles = \"C=CCl\"\n",
        "print(\"SMILES string:\\n\\t\", smiles)\n",
        "print(\"Tokens:\\n\\t\", \", \".join(tokenizer.tokenize(smiles)))\n",
        "vocab = build_vocab([smiles], tokenizer, 3)\n",
        "print(\"Vocab:\\n\\t\", vocab)\n",
        "print(\"OHE:\\n\", np.array(smiles_to_ohe(smiles, tokenizer, vocab)).T)"
      ],
      "metadata": {
        "colab": {
          "base_uri": "https://localhost:8080/"
        },
        "id": "2XagfxRHDXKN",
        "outputId": "44532796-6c62-413c-ddbb-f3e311d1252c"
      },
      "execution_count": 59,
      "outputs": [
        {
          "output_type": "stream",
          "name": "stdout",
          "text": [
            "SMILES string:\n",
            "\t C=CCl\n",
            "Tokens:\n",
            "\t C, =, C, Cl\n",
            "Vocab:\n",
            "\t {'C': 0, '=': 1, 'Cl': 2}\n",
            "OHE:\n",
            " [[1. 0. 1. 0.]\n",
            " [0. 1. 0. 0.]\n",
            " [0. 0. 0. 1.]]\n"
          ]
        }
      ]
    },
    {
      "cell_type": "code",
      "source": [
        "sample_size = 50000\n",
        "n_train = 40000\n",
        "n_test = n_val = 5000\n",
        "\n",
        "# get a sample\n",
        "df = df.sample(n=sample_size, axis=0, random_state=42)\n",
        "\n",
        "# select columns from the data frame\n",
        "smiles = df[\"smiles\"].tolist()\n",
        "y = df[\"mu\"].to_numpy()\n",
        "\n",
        "# build a vocab using the training data\n",
        "max_vocab_size = 30\n",
        "vocab = build_vocab(smiles[:n_train], tokenizer, max_vocab_size)\n",
        "vocab_size = len(vocab)\n",
        "\n",
        "# transform smiles to one-hot encoded tensors and apply padding\n",
        "X = pad_sequence(\n",
        "    sequences=[smiles_to_ohe(smi, tokenizer, vocab) for smi in smiles],\n",
        "    batch_first=True,\n",
        "    padding_value=0,\n",
        ")\n",
        "\n",
        "# normalize the target using the training data\n",
        "train_mean = y[:n_train].mean()\n",
        "train_std = y[:n_train].std()\n",
        "y = (y - train_mean) / train_std\n",
        "\n",
        "# build dataset\n",
        "data = TensorDataset(X, torch.Tensor(y))\n",
        "\n",
        "# define loaders\n",
        "ids_train = np.arange(n_train)\n",
        "ids_val = np.arange(n_val) + n_train\n",
        "ids_test = np.arange(n_test) + n_train + n_val\n",
        "train_loader = DataLoader(\n",
        "    Subset(data, ids_train),\n",
        "    batch_size=64,\n",
        "    shuffle=True,\n",
        "    generator=torch.Generator().manual_seed(42),\n",
        ")\n",
        "val_loader = DataLoader(\n",
        "    Subset(data, ids_val), batch_size=64, shuffle=True, generator=torch.Generator().manual_seed(42)\n",
        ")\n",
        "test_loader = DataLoader(\n",
        "    Subset(data, ids_test),\n",
        "    batch_size=1,\n",
        "    shuffle=False,\n",
        "    generator=torch.Generator().manual_seed(42),\n",
        ")"
      ],
      "metadata": {
        "id": "CYOTAOoMDZA4"
      },
      "execution_count": 60,
      "outputs": []
    },
    {
      "cell_type": "code",
      "source": [
        "class RNNRegressionModel(nn.Module):\n",
        "    \"\"\"Vanilla RNN with one recurrent layer\"\"\"\n",
        "\n",
        "    def __init__(self, input_size, hidden_size=32, num_layers=1):\n",
        "        \"\"\"\n",
        "        Vanilla RNN\n",
        "\n",
        "        Parameters\n",
        "        ----------\n",
        "        input_size : int\n",
        "            The number of expected features in the input vector\n",
        "        hidden_size : int\n",
        "            The number of features in the hidden state\n",
        "\n",
        "        \"\"\"\n",
        "        super(RNNRegressionModel, self).__init__()\n",
        "        self.hidden_size = hidden_size\n",
        "        self.num_layers = num_layers\n",
        "        self.rnn = nn.RNN(input_size, hidden_size, num_layers, batch_first=True)\n",
        "        self.fc = nn.Linear(hidden_size, 1)\n",
        "        self.dropout = nn.Dropout(p=0.2)\n",
        "\n",
        "    def forward(self, x):\n",
        "        h0 = torch.zeros(self.num_layers, x.size(0), self.hidden_size).to(device)\n",
        "        out, hn = self.rnn(x, h0)\n",
        "        out = out[:, -1]\n",
        "        out = self.dropout(out)\n",
        "        out = self.fc(out)\n",
        "        return out\n",
        "\n",
        "\n",
        "class GRURegressionModel(nn.Module):\n",
        "    \"\"\"GRU network with one recurrent layer\"\"\"\n",
        "\n",
        "    def __init__(self, input_size, hidden_size=32, num_layers=1):\n",
        "        \"\"\"\n",
        "        GRU network\n",
        "\n",
        "        Parameters\n",
        "        ----------\n",
        "        input_size : int\n",
        "            The number of expected features in the input vector\n",
        "        hidden_size : int\n",
        "            The number of features in the hidden state\n",
        "\n",
        "        \"\"\"\n",
        "        super(GRURegressionModel, self).__init__()\n",
        "        self.hidden_size = hidden_size\n",
        "        self.num_layers = num_layers\n",
        "        self.gru = nn.GRU(input_size, hidden_size, num_layers=1, batch_first=True)\n",
        "        self.fc = nn.Linear(hidden_size, 1)\n",
        "        self.dropout = nn.Dropout(p=0.2)\n",
        "\n",
        "    def forward(self, x):\n",
        "        h0 = torch.zeros(self.num_layers, x.size(0), self.hidden_size).to(device)\n",
        "        out, hn = self.gru(x, h0)\n",
        "        out = out[:, -1]\n",
        "        out = self.dropout(out)\n",
        "        out = self.fc(out)\n",
        "        return out"
      ],
      "metadata": {
        "id": "FURw4rbuDcFm"
      },
      "execution_count": 61,
      "outputs": []
    },
    {
      "cell_type": "code",
      "source": [
        "class ModelTrainer(object):\n",
        "    \"\"\"A class that provides training and validation infrastructure for the model and keeps track of training and validation metrics.\"\"\"\n",
        "\n",
        "    def __init__(self, model, lr, name=None, clip_gradients=False):\n",
        "        \"\"\"\n",
        "        Initialization.\n",
        "\n",
        "        Parameters\n",
        "        ----------\n",
        "        model : nn.Module\n",
        "            a model\n",
        "        lr : float\n",
        "            learning rate for one training step\n",
        "\n",
        "        \"\"\"\n",
        "        self.model = model\n",
        "        self.lr = lr\n",
        "        self.criterion = torch.nn.MSELoss()\n",
        "        self.optimizer = torch.optim.Adam(self.model.parameters(), self.lr)\n",
        "        self.clip_gradients = clip_gradients\n",
        "        self.model.to(device)\n",
        "\n",
        "        self.train_loss = []\n",
        "        self.batch_loss = []\n",
        "        self.val_loss = []\n",
        "\n",
        "    def _train_epoch(self, loader):\n",
        "        self.model.train()\n",
        "        epoch_loss = 0\n",
        "        batch_losses = []\n",
        "        for i, (X_batch, y_batch) in enumerate(loader):\n",
        "            X_batch, y_batch = X_batch.to(device), y_batch.to(device)\n",
        "            self.optimizer.zero_grad()\n",
        "            y_pred = self.model(X_batch)\n",
        "            loss = self.criterion(y_pred, y_batch.unsqueeze(1))\n",
        "            loss.backward()\n",
        "\n",
        "            if self.clip_gradients:\n",
        "                torch.nn.utils.clip_grad_norm_(self.model.parameters(), max_norm=1, norm_type=2)\n",
        "\n",
        "            self.optimizer.step()\n",
        "            epoch_loss += loss.item()\n",
        "            batch_losses.append(loss.item())\n",
        "\n",
        "        return epoch_loss / len(loader), batch_losses\n",
        "\n",
        "    def _eval_epoch(self, loader):\n",
        "        self.model.eval()\n",
        "        val_loss = 0\n",
        "        predictions = []\n",
        "        targets = []\n",
        "        with torch.no_grad():\n",
        "            for X_batch, y_batch in loader:\n",
        "                X_batch, y_batch = X_batch.to(device), y_batch.to(device)\n",
        "                y_pred = self.model(X_batch)\n",
        "                loss = self.criterion(y_pred, y_batch.unsqueeze(1))\n",
        "                val_loss += loss.item()\n",
        "                predictions.append(y_pred.detach().cpu().numpy())\n",
        "                targets.append(y_batch.unsqueeze(1).detach().cpu().numpy())\n",
        "\n",
        "        predictions = np.concatenate(predictions).flatten()\n",
        "        targets = np.concatenate(targets).flatten()\n",
        "        return val_loss / len(loader), predictions, targets\n",
        "\n",
        "    def train(self, train_loader, val_loader, n_epochs, print_every=10):\n",
        "        \"\"\"\n",
        "        Train the model\n",
        "\n",
        "        Parameters\n",
        "        ----------\n",
        "        train_loader :\n",
        "            a dataloader with training data\n",
        "        val_loader :\n",
        "            a dataloader with training data\n",
        "        n_epochs :\n",
        "            number of epochs to train for\n",
        "        \"\"\"\n",
        "        for e in range(n_epochs):\n",
        "            train_loss, train_loss_batches = self._train_epoch(train_loader)\n",
        "            val_loss, _, _ = self._eval_epoch(test_loader)\n",
        "            self.batch_loss += train_loss_batches\n",
        "            self.train_loss.append(train_loss)\n",
        "            self.val_loss.append(val_loss)\n",
        "            if e % print_every == 0:\n",
        "                print(f\"Epoch {e+0:03} | train_loss: {train_loss:.5f} | val_loss: {val_loss:.5f}\")\n",
        "\n",
        "    def validate(self, val_loader):\n",
        "        \"\"\"\n",
        "        Validate the model\n",
        "\n",
        "        Parameters\n",
        "        ----------\n",
        "        val_loader :\n",
        "            a dataloader with training data\n",
        "\n",
        "        Returns\n",
        "        -------\n",
        "        Tuple[list, list, list]\n",
        "            Loss, y_predicted, y_target for each datapoint in val_loader.\n",
        "        \"\"\"\n",
        "        loss, y_pred, y_targ = self._eval_epoch(val_loader)\n",
        "        return loss, y_pred, y_targ"
      ],
      "metadata": {
        "id": "1IzQqUPBDenl"
      },
      "execution_count": 67,
      "outputs": []
    },
    {
      "cell_type": "code",
      "source": [
        "model_rnn = ModelTrainer(\n",
        "    model=RNNRegressionModel(vocab_size, hidden_size=32),\n",
        "    lr=1e-3,\n",
        ")"
      ],
      "metadata": {
        "id": "0z-0P-S1Dha-"
      },
      "execution_count": 68,
      "outputs": []
    },
    {
      "cell_type": "code",
      "source": [
        "model_gru = ModelTrainer(\n",
        "    model=GRURegressionModel(vocab_size, hidden_size=32),\n",
        "    lr=1e-3,\n",
        ")"
      ],
      "metadata": {
        "id": "QefatLGuEw6x"
      },
      "execution_count": 74,
      "outputs": []
    },
    {
      "cell_type": "code",
      "source": [
        "model_rnn.train(train_loader, val_loader, 51)"
      ],
      "metadata": {
        "colab": {
          "base_uri": "https://localhost:8080/"
        },
        "id": "W80fmOPwDjEV",
        "outputId": "d09617e6-afe8-4941-ec58-4d365934014a"
      },
      "execution_count": 69,
      "outputs": [
        {
          "output_type": "stream",
          "name": "stdout",
          "text": [
            "Epoch 000 | train_loss: 0.85954 | val_loss: 0.63604\n",
            "Epoch 010 | train_loss: 0.55200 | val_loss: 0.50211\n",
            "Epoch 020 | train_loss: 0.49238 | val_loss: 0.44084\n",
            "Epoch 030 | train_loss: 0.45500 | val_loss: 0.41160\n",
            "Epoch 040 | train_loss: 0.43041 | val_loss: 0.40063\n",
            "Epoch 050 | train_loss: 0.41760 | val_loss: 0.39637\n"
          ]
        }
      ]
    },
    {
      "cell_type": "code",
      "source": [
        "model_gru.train(train_loader, val_loader, 51)"
      ],
      "metadata": {
        "colab": {
          "base_uri": "https://localhost:8080/"
        },
        "id": "xqS56o_sHk_o",
        "outputId": "fe2b0f87-2b65-419e-b745-6b50f01b579f"
      },
      "execution_count": 75,
      "outputs": [
        {
          "output_type": "stream",
          "name": "stdout",
          "text": [
            "Epoch 000 | train_loss: 0.75208 | val_loss: 0.54450\n",
            "Epoch 010 | train_loss: 0.43109 | val_loss: 0.42034\n",
            "Epoch 020 | train_loss: 0.37559 | val_loss: 0.38635\n",
            "Epoch 030 | train_loss: 0.34615 | val_loss: 0.35569\n",
            "Epoch 040 | train_loss: 0.32072 | val_loss: 0.34151\n",
            "Epoch 050 | train_loss: 0.30018 | val_loss: 0.34079\n"
          ]
        }
      ]
    },
    {
      "cell_type": "code",
      "source": [
        "plt.plot(model_rnn.train_loss, label=f\"RNN train\")\n",
        "plt.plot(model_rnn.val_loss, label=f\"RNN val\")\n",
        "plt.plot(model_gru.train_loss, label=f\"GRU train\")\n",
        "plt.plot(model_gru.val_loss, label=f\"GRU val\")\n",
        "plt.xlabel(\"epoch\")\n",
        "plt.ylabel(\"MSE\")\n",
        "plt.legend()"
      ],
      "metadata": {
        "colab": {
          "base_uri": "https://localhost:8080/",
          "height": 476
        },
        "id": "RiJVj49TDllf",
        "outputId": "cebadeab-e9ab-4356-e722-3217ad338543"
      },
      "execution_count": 76,
      "outputs": [
        {
          "output_type": "execute_result",
          "data": {
            "text/plain": [
              "<matplotlib.legend.Legend at 0x7fac15912c50>"
            ]
          },
          "metadata": {},
          "execution_count": 76
        },
        {
          "output_type": "display_data",
          "data": {
            "text/plain": [
              "<Figure size 640x480 with 1 Axes>"
            ],
            "image/png": "[encoded data removed]"
          },
          "metadata": {}
        }
      ]
    },
    {
      "cell_type": "code",
      "source": [
        "f, axarr = plt.subplots(1, 2, figsize=(9, 5), constrained_layout=True)\n",
        "\n",
        "f.suptitle(\"Ground truth vs predicted values\")\n",
        "\n",
        "loss, y_pred, y_targ = model_rnn.validate(test_loader)\n",
        "print(f\"RNN test loss: {loss:.3f}\")\n",
        "\n",
        "_ = axarr[0].scatter(y_pred, y_targ, alpha=0.5, s=0.5)\n",
        "_ = axarr[0].plot(y_targ, y_targ, lw=0.4, c=\"r\")\n",
        "_ = axarr[0].set_title(\"RNN\")\n",
        "\n",
        "loss, y_pred, y_targ = model_gru.validate(test_loader)\n",
        "print(f\"GRU test loss: {loss:.3f}\")\n",
        "\n",
        "_ = axarr[1].scatter(y_pred, y_targ, alpha=0.5, s=0.5)\n",
        "_ = axarr[1].plot(y_targ, y_targ, lw=0.4, c=\"r\")\n",
        "_ = axarr[1].set_title(\"GRU\")\n",
        "\n",
        "for ax in axarr:\n",
        "    _ = ax.set_xlabel(\"y_pred\")\n",
        "    _ = ax.set_ylabel(\"y_true\")"
      ],
      "metadata": {
        "colab": {
          "base_uri": "https://localhost:8080/",
          "height": 564
        },
        "id": "W71eOh66GKdo",
        "outputId": "eabcc891-e23a-4e49-f06c-5be63ccfc610"
      },
      "execution_count": 77,
      "outputs": [
        {
          "output_type": "stream",
          "name": "stdout",
          "text": [
            "RNN test loss: 0.396\n",
            "GRU test loss: 0.341\n"
          ]
        },
        {
          "output_type": "display_data",
          "data": {
            "text/plain": [
              "<Figure size 900x500 with 2 Axes>"
            ],
            "image/png": "[encoded data removed]"
          },
          "metadata": {}
        }
      ]
    },
    {
      "cell_type": "markdown",
      "source": [
        "**Discussion**\n",
        "Natural language processing-based models proved to be a powerful tool for a wide range of molecular tasks. In this talktorial we introduced the basics of Recurrent Neural Network architectures and demonstrated their application to the regression task on the QM9 dataset. We have learned how to pre-process SMILES strings, build a model using PyTorch, and train the model to predict the dipole moment of the molecule."
      ],
      "metadata": {
        "id": "9HF7ux-eGS3A"
      }
    },
    {
      "cell_type": "code",
      "source": [],
      "metadata": {
        "id": "nZy2IEPzGRqf"
      },
      "execution_count": null,
      "outputs": []
    }
  ]
}